{
 "cells": [
  {
   "cell_type": "markdown",
   "metadata": {},
   "source": [
    "Many times I have needed to process a bunch of files.  If you do not know the names of the files beforehand then we need a way to get them.  Introducing 'glob'!\n"
   ]
  },
  {
   "cell_type": "code",
   "execution_count": 2,
   "metadata": {},
   "outputs": [],
   "source": [
    "#it is a standard library so you don't need to install anything\n",
    "\n",
    "from glob import glob\n"
   ]
  },
  {
   "cell_type": "code",
   "execution_count": 4,
   "metadata": {},
   "outputs": [],
   "source": [
    "#point to your own folder...\n",
    "my_folder_with_files = '/media/john/wolf/alpha_sg/LiDAR_ABMI/RichardsonSouth_NSandSE/TIFFs/seismic_shift/densities/'"
   ]
  },
  {
   "cell_type": "code",
   "execution_count": 8,
   "metadata": {},
   "outputs": [
    {
     "name": "stdout",
     "output_type": "stream",
     "text": [
      "['/media/john/wolf/alpha_sg/LiDAR_ABMI/RichardsonSouth_NSandSE/TIFFs/seismic_shift/densities/']\n"
     ]
    }
   ],
   "source": [
    "#this doesn't do anything, other than store the folder in my 'files' array\n",
    "files = glob(my_folder_with_files)\n",
    "print(files)\n"
   ]
  },
  {
   "cell_type": "code",
   "execution_count": 9,
   "metadata": {},
   "outputs": [
    {
     "name": "stdout",
     "output_type": "stream",
     "text": [
      "['/media/john/wolf/alpha_sg/LiDAR_ABMI/RichardsonSouth_NSandSE/TIFFs/seismic_shift/densities/Rich_NS_SE001471_density_1m_40.tif', '/media/john/wolf/alpha_sg/LiDAR_ABMI/RichardsonSouth_NSandSE/TIFFs/seismic_shift/densities/Rich_NS_SE001471_density_1m_40_5.tif', '/media/john/wolf/alpha_sg/LiDAR_ABMI/RichardsonSouth_NSandSE/TIFFs/seismic_shift/densities/Rich_NS_SE001471_density_1m_5.tif']\n"
     ]
    }
   ],
   "source": [
    "#but if we add a wildcard to the end...\n",
    "files = glob(my_folder_with_files + '*')\n",
    "print(files)\n",
    "#we get a file listing"
   ]
  },
  {
   "cell_type": "code",
   "execution_count": 11,
   "metadata": {},
   "outputs": [
    {
     "name": "stdout",
     "output_type": "stream",
     "text": [
      "['/media/john/wolf/alpha_sg/LiDAR_ABMI/RichardsonSouth_NSandSE/TIFFs/seismic_shift/densities/Rich_NS_SE001471_density_1m_40.tif', '/media/john/wolf/alpha_sg/LiDAR_ABMI/RichardsonSouth_NSandSE/TIFFs/seismic_shift/densities/Rich_NS_SE001471_density_1m_40_5.tif', '/media/john/wolf/alpha_sg/LiDAR_ABMI/RichardsonSouth_NSandSE/TIFFs/seismic_shift/densities/Rich_NS_SE001471_density_1m_5.tif']\n"
     ]
    }
   ],
   "source": [
    "#in my make-believe example I want tif files... (yes, I only have tif files in this folder but if there were a mix if files, now only the tifs would be gathered up)\n",
    "files = glob(my_folder_with_files + '*.tif')\n",
    "print(files)\n"
   ]
  },
  {
   "cell_type": "code",
   "execution_count": 15,
   "metadata": {},
   "outputs": [
    {
     "name": "stdout",
     "output_type": "stream",
     "text": [
      "Rich_NS_SE001471_density_1m_40.tif\n",
      "Rich_NS_SE001471_density_1m_40_5.tif\n",
      "Rich_NS_SE001471_density_1m_5.tif\n"
     ]
    }
   ],
   "source": [
    "#how you can loop and process them\n",
    "\n",
    "for f in files:\n",
    "    #open, process, etc\n",
    "    #let's say you just want the file name\n",
    "    \n",
    "    #handy string function   \"split\"\n",
    "    farr = f.split('/')\n",
    "    #print(farr)\n",
    "    print(farr[-1])  #get the last element which is the file name\n",
    "    \n",
    "    "
   ]
  },
  {
   "cell_type": "markdown",
   "metadata": {},
   "source": [
    "bonus round...what about if there are a bunch of sub-folders???"
   ]
  },
  {
   "cell_type": "code",
   "execution_count": 16,
   "metadata": {},
   "outputs": [],
   "source": [
    "#another standard library\n",
    "from pathlib import Path"
   ]
  },
  {
   "cell_type": "code",
   "execution_count": 21,
   "metadata": {},
   "outputs": [],
   "source": [
    "# a folder with many subfolders\n",
    "my_folder_with_files = '/media/john/wolf/alpha_sg/LiDAR_ABMI/RichardsonSouth_NSandSE/TIFFs/'"
   ]
  },
  {
   "cell_type": "code",
   "execution_count": 22,
   "metadata": {},
   "outputs": [
    {
     "name": "stdout",
     "output_type": "stream",
     "text": [
      "[PosixPath('/media/john/wolf/alpha_sg/LiDAR_ABMI/RichardsonSouth_NSandSE/TIFFs/mH.vrt'), PosixPath('/media/john/wolf/alpha_sg/LiDAR_ABMI/RichardsonSouth_NSandSE/TIFFs/mH500.vrt'), PosixPath('/media/john/wolf/alpha_sg/LiDAR_ABMI/RichardsonSouth_NSandSE/TIFFs/mint.vrt'), PosixPath('/media/john/wolf/alpha_sg/LiDAR_ABMI/RichardsonSouth_NSandSE/TIFFs/Omnivariance.vrt'), PosixPath('/media/john/wolf/alpha_sg/LiDAR_ABMI/RichardsonSouth_NSandSE/TIFFs/R250.vrt'), PosixPath('/media/john/wolf/alpha_sg/LiDAR_ABMI/RichardsonSouth_NSandSE/TIFFs/Scattering.vrt'), PosixPath('/media/john/wolf/alpha_sg/LiDAR_ABMI/RichardsonSouth_NSandSE/TIFFs/Slas.vrt'), PosixPath('/media/john/wolf/alpha_sg/LiDAR_ABMI/RichardsonSouth_NSandSE/TIFFs/SurfaceVariation.vrt'), PosixPath('/media/john/wolf/alpha_sg/LiDAR_ABMI/RichardsonSouth_NSandSE/TIFFs/Anisotropy.vrt'), PosixPath('/media/john/wolf/alpha_sg/LiDAR_ABMI/RichardsonSouth_NSandSE/TIFFs/be_dem.vrt'), PosixPath('/media/john/wolf/alpha_sg/LiDAR_ABMI/RichardsonSouth_NSandSE/TIFFs/cce.vrt'), PosixPath('/media/john/wolf/alpha_sg/LiDAR_ABMI/RichardsonSouth_NSandSE/TIFFs/cce500.vrt'), PosixPath('/media/john/wolf/alpha_sg/LiDAR_ABMI/RichardsonSouth_NSandSE/TIFFs/chm.vrt'), PosixPath('/media/john/wolf/alpha_sg/LiDAR_ABMI/RichardsonSouth_NSandSE/TIFFs/DemantkeVerticality.vrt'), PosixPath('/media/john/wolf/alpha_sg/LiDAR_ABMI/RichardsonSouth_NSandSE/TIFFs/density_pfrac_1m_40.vrt'), PosixPath('/media/john/wolf/alpha_sg/LiDAR_ABMI/RichardsonSouth_NSandSE/TIFFs/density_pfrac_1m_40_5.vrt'), PosixPath('/media/john/wolf/alpha_sg/LiDAR_ABMI/RichardsonSouth_NSandSE/TIFFs/density_pfrac_1m_5.vrt'), PosixPath('/media/john/wolf/alpha_sg/LiDAR_ABMI/RichardsonSouth_NSandSE/TIFFs/EigenvalueSum.vrt'), PosixPath('/media/john/wolf/alpha_sg/LiDAR_ABMI/RichardsonSouth_NSandSE/TIFFs/Linearity.vrt'), PosixPath('/media/john/wolf/alpha_sg/LiDAR_ABMI/RichardsonSouth_NSandSE/TIFFs/seismic_shift/chm.vrt'), PosixPath('/media/john/wolf/alpha_sg/LiDAR_ABMI/RichardsonSouth_NSandSE/TIFFs/seismic_shift/intensity_scaled.vrt')]\n"
     ]
    }
   ],
   "source": [
    "#here, I want all .vrt files \n",
    "vrt_files = list(Path(my_folder_with_files).rglob('*.vrt'))\n",
    "print(vrt_files)\n",
    "\n",
    "#'PosixPath???'\n",
    "#hmmm...this is not the same as the above glob...in this case we need to do a bit of hoop-jumping\n",
    "# to convert the 'posixpath' objects into strings...\n",
    "\n"
   ]
  },
  {
   "cell_type": "code",
   "execution_count": 24,
   "metadata": {},
   "outputs": [
    {
     "name": "stdout",
     "output_type": "stream",
     "text": [
      "/media/john/wolf/alpha_sg/LiDAR_ABMI/RichardsonSouth_NSandSE/TIFFs/mH.vrt\n",
      "/media/john/wolf/alpha_sg/LiDAR_ABMI/RichardsonSouth_NSandSE/TIFFs/mH500.vrt\n",
      "/media/john/wolf/alpha_sg/LiDAR_ABMI/RichardsonSouth_NSandSE/TIFFs/mint.vrt\n",
      "/media/john/wolf/alpha_sg/LiDAR_ABMI/RichardsonSouth_NSandSE/TIFFs/Omnivariance.vrt\n",
      "/media/john/wolf/alpha_sg/LiDAR_ABMI/RichardsonSouth_NSandSE/TIFFs/R250.vrt\n",
      "/media/john/wolf/alpha_sg/LiDAR_ABMI/RichardsonSouth_NSandSE/TIFFs/Scattering.vrt\n",
      "/media/john/wolf/alpha_sg/LiDAR_ABMI/RichardsonSouth_NSandSE/TIFFs/Slas.vrt\n",
      "/media/john/wolf/alpha_sg/LiDAR_ABMI/RichardsonSouth_NSandSE/TIFFs/SurfaceVariation.vrt\n",
      "/media/john/wolf/alpha_sg/LiDAR_ABMI/RichardsonSouth_NSandSE/TIFFs/Anisotropy.vrt\n",
      "/media/john/wolf/alpha_sg/LiDAR_ABMI/RichardsonSouth_NSandSE/TIFFs/be_dem.vrt\n",
      "/media/john/wolf/alpha_sg/LiDAR_ABMI/RichardsonSouth_NSandSE/TIFFs/cce.vrt\n",
      "/media/john/wolf/alpha_sg/LiDAR_ABMI/RichardsonSouth_NSandSE/TIFFs/cce500.vrt\n",
      "/media/john/wolf/alpha_sg/LiDAR_ABMI/RichardsonSouth_NSandSE/TIFFs/chm.vrt\n",
      "/media/john/wolf/alpha_sg/LiDAR_ABMI/RichardsonSouth_NSandSE/TIFFs/DemantkeVerticality.vrt\n",
      "/media/john/wolf/alpha_sg/LiDAR_ABMI/RichardsonSouth_NSandSE/TIFFs/density_pfrac_1m_40.vrt\n",
      "/media/john/wolf/alpha_sg/LiDAR_ABMI/RichardsonSouth_NSandSE/TIFFs/density_pfrac_1m_40_5.vrt\n",
      "/media/john/wolf/alpha_sg/LiDAR_ABMI/RichardsonSouth_NSandSE/TIFFs/density_pfrac_1m_5.vrt\n",
      "/media/john/wolf/alpha_sg/LiDAR_ABMI/RichardsonSouth_NSandSE/TIFFs/EigenvalueSum.vrt\n",
      "/media/john/wolf/alpha_sg/LiDAR_ABMI/RichardsonSouth_NSandSE/TIFFs/Linearity.vrt\n",
      "/media/john/wolf/alpha_sg/LiDAR_ABMI/RichardsonSouth_NSandSE/TIFFs/seismic_shift/chm.vrt\n",
      "/media/john/wolf/alpha_sg/LiDAR_ABMI/RichardsonSouth_NSandSE/TIFFs/seismic_shift/intensity_scaled.vrt\n"
     ]
    }
   ],
   "source": [
    "\n",
    "for f in vrt_files:\n",
    "    if f.is_file():\n",
    "        f = str(f)  #easy-peasy\n",
    "        print(f)\n",
    "    "
   ]
  },
  {
   "cell_type": "code",
   "execution_count": 26,
   "metadata": {},
   "outputs": [
    {
     "name": "stdout",
     "output_type": "stream",
     "text": [
      "['/media/john/wolf/alpha_sg/LiDAR_ABMI/RichardsonSouth_NSandSE/TIFFs/mH.vrt', '/media/john/wolf/alpha_sg/LiDAR_ABMI/RichardsonSouth_NSandSE/TIFFs/mH500.vrt', '/media/john/wolf/alpha_sg/LiDAR_ABMI/RichardsonSouth_NSandSE/TIFFs/mint.vrt', '/media/john/wolf/alpha_sg/LiDAR_ABMI/RichardsonSouth_NSandSE/TIFFs/Omnivariance.vrt', '/media/john/wolf/alpha_sg/LiDAR_ABMI/RichardsonSouth_NSandSE/TIFFs/R250.vrt', '/media/john/wolf/alpha_sg/LiDAR_ABMI/RichardsonSouth_NSandSE/TIFFs/Scattering.vrt', '/media/john/wolf/alpha_sg/LiDAR_ABMI/RichardsonSouth_NSandSE/TIFFs/Slas.vrt', '/media/john/wolf/alpha_sg/LiDAR_ABMI/RichardsonSouth_NSandSE/TIFFs/SurfaceVariation.vrt', '/media/john/wolf/alpha_sg/LiDAR_ABMI/RichardsonSouth_NSandSE/TIFFs/Anisotropy.vrt', '/media/john/wolf/alpha_sg/LiDAR_ABMI/RichardsonSouth_NSandSE/TIFFs/be_dem.vrt', '/media/john/wolf/alpha_sg/LiDAR_ABMI/RichardsonSouth_NSandSE/TIFFs/cce.vrt', '/media/john/wolf/alpha_sg/LiDAR_ABMI/RichardsonSouth_NSandSE/TIFFs/cce500.vrt', '/media/john/wolf/alpha_sg/LiDAR_ABMI/RichardsonSouth_NSandSE/TIFFs/chm.vrt', '/media/john/wolf/alpha_sg/LiDAR_ABMI/RichardsonSouth_NSandSE/TIFFs/DemantkeVerticality.vrt', '/media/john/wolf/alpha_sg/LiDAR_ABMI/RichardsonSouth_NSandSE/TIFFs/density_pfrac_1m_40.vrt', '/media/john/wolf/alpha_sg/LiDAR_ABMI/RichardsonSouth_NSandSE/TIFFs/density_pfrac_1m_40_5.vrt', '/media/john/wolf/alpha_sg/LiDAR_ABMI/RichardsonSouth_NSandSE/TIFFs/density_pfrac_1m_5.vrt', '/media/john/wolf/alpha_sg/LiDAR_ABMI/RichardsonSouth_NSandSE/TIFFs/EigenvalueSum.vrt', '/media/john/wolf/alpha_sg/LiDAR_ABMI/RichardsonSouth_NSandSE/TIFFs/Linearity.vrt', '/media/john/wolf/alpha_sg/LiDAR_ABMI/RichardsonSouth_NSandSE/TIFFs/seismic_shift/chm.vrt', '/media/john/wolf/alpha_sg/LiDAR_ABMI/RichardsonSouth_NSandSE/TIFFs/seismic_shift/intensity_scaled.vrt']\n"
     ]
    }
   ],
   "source": [
    "#to turn it into an array just like before:\n",
    "\n",
    "my_vrt_file_array = []\n",
    "for f in vrt_files:\n",
    "    if f.is_file():\n",
    "        f = str(f)  #easy-peasy\n",
    "        my_vrt_file_array.append(f)\n",
    "\n",
    "print(my_vrt_file_array)"
   ]
  },
  {
   "cell_type": "code",
   "execution_count": 27,
   "metadata": {},
   "outputs": [
    {
     "name": "stdout",
     "output_type": "stream",
     "text": [
      "mH.vrt\n",
      "mH500.vrt\n",
      "mint.vrt\n",
      "Omnivariance.vrt\n",
      "R250.vrt\n",
      "Scattering.vrt\n",
      "Slas.vrt\n",
      "SurfaceVariation.vrt\n",
      "Anisotropy.vrt\n",
      "be_dem.vrt\n",
      "cce.vrt\n",
      "cce500.vrt\n",
      "chm.vrt\n",
      "DemantkeVerticality.vrt\n",
      "density_pfrac_1m_40.vrt\n",
      "density_pfrac_1m_40_5.vrt\n",
      "density_pfrac_1m_5.vrt\n",
      "EigenvalueSum.vrt\n",
      "Linearity.vrt\n",
      "chm.vrt\n",
      "intensity_scaled.vrt\n"
     ]
    }
   ],
   "source": [
    "for f in my_vrt_file_array:\n",
    "    print(f.split('/')[-1])\n",
    "    "
   ]
  }
 ],
 "metadata": {
  "kernelspec": {
   "display_name": "Python 3",
   "language": "python",
   "name": "python3"
  },
  "language_info": {
   "codemirror_mode": {
    "name": "ipython",
    "version": 3
   },
   "file_extension": ".py",
   "mimetype": "text/x-python",
   "name": "python",
   "nbconvert_exporter": "python",
   "pygments_lexer": "ipython3",
   "version": "3.6.9"
  }
 },
 "nbformat": 4,
 "nbformat_minor": 4
}
