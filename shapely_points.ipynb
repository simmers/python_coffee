{
 "cells": [
  {
   "cell_type": "markdown",
   "metadata": {},
   "source": [
    "Introducing the library \"Shapely\""
   ]
  },
  {
   "cell_type": "code",
   "execution_count": 1,
   "metadata": {},
   "outputs": [],
   "source": [
    "#likely you already have Shapely if you installed geopandas.\n",
    "\n",
    "#geopandas dataframes have their geometries as shapely geometry objects...that's why the 2 libraries behave well together.\n",
    "\n",
    "#test if you have it:\n",
    "\n",
    "import shapely"
   ]
  },
  {
   "cell_type": "code",
   "execution_count": 2,
   "metadata": {},
   "outputs": [],
   "source": [
    "import geopandas\n",
    "from shapely.geometry import Point\n"
   ]
  },
  {
   "cell_type": "code",
   "execution_count": 3,
   "metadata": {},
   "outputs": [],
   "source": [
    "\n",
    "#we are going to make a shapefile using geopandas, with points made by shapely\n",
    "\n",
    "my_crs = 26912  #our spatial ref\n",
    "\n",
    "#empty point array\n",
    "my_points = []\n",
    "\n",
    "#make point\n",
    "new_point = Point([495809.00, 6295998.50])\n",
    "\n",
    "#add point to array\n",
    "my_points.append(new_point)\n",
    "\n",
    "\n",
    "#make and add in one line\n",
    "my_points.append(Point([495819.00, 6295999.50]))\n",
    "\n",
    "#and a few more...sorta random\n",
    "my_points.append(Point([495821.00, 6296000.0]))\n",
    "my_points.append(Point([495822.00, 6295992.25]))\n",
    "my_points.append(Point([495815.00, 6295994.0]))\n",
    "my_points.append(Point([495819.00, 6295990.1]))\n"
   ]
  },
  {
   "cell_type": "code",
   "execution_count": 4,
   "metadata": {},
   "outputs": [
    {
     "name": "stdout",
     "output_type": "stream",
     "text": [
      "                         geometry\n",
      "0  POINT (495809.000 6295998.500)\n",
      "1  POINT (495819.000 6295999.500)\n",
      "2  POINT (495821.000 6296000.000)\n",
      "3  POINT (495822.000 6295992.250)\n",
      "4  POINT (495815.000 6295994.000)\n",
      "                         geometry  id\n",
      "0  POINT (495809.000 6295998.500)   0\n",
      "1  POINT (495819.000 6295999.500)   1\n",
      "2  POINT (495821.000 6296000.000)   2\n",
      "3  POINT (495822.000 6295992.250)   3\n"
     ]
    }
   ],
   "source": [
    "#make a geopandas data frame\n",
    "\n",
    "new_gdf = geopandas.GeoDataFrame( None, geometry=my_points, crs=my_crs )\n",
    "#the \"None\" varible is because we do not have any other columns.\n",
    "\n",
    "#inspect it\n",
    "print(new_gdf.head())\n",
    "\n",
    "#we will also make an \"id\" field for the data frame...have a number from 0 to length -1 of our points.\n",
    "new_gdf[\"id\"] = range(len(my_points))\n",
    "\n",
    "#inspect it again\n",
    "print(new_gdf.head(4)) #the default is 5 for rows, but it can be changed...in this case, 4\n",
    "\n"
   ]
  },
  {
   "cell_type": "code",
   "execution_count": 5,
   "metadata": {},
   "outputs": [],
   "source": [
    "#happy? save it.\n",
    "new_gdf.to_file('my_points.shp')\n"
   ]
  },
  {
   "cell_type": "markdown",
   "metadata": {},
   "source": [
    "**Bonus Round**"
   ]
  },
  {
   "cell_type": "markdown",
   "metadata": {},
   "source": [
    "*We have a question::*\n",
    "\n",
    "\"If I want to calculate the distance from all points inside the gdf to a feature (a point for example) then add that as a new field. How can I do that?\"\n"
   ]
  },
  {
   "cell_type": "code",
   "execution_count": 6,
   "metadata": {},
   "outputs": [],
   "source": [
    "\n",
    "#you may get your feature from some other source (shapefile etc)\n",
    "# but for our example, let's just make a point\n",
    "\n",
    "my_test_point = Point([495895.00, 6295984.0])\n"
   ]
  },
  {
   "cell_type": "code",
   "execution_count": 7,
   "metadata": {},
   "outputs": [
    {
     "name": "stdout",
     "output_type": "stream",
     "text": [
      "0.0\n"
     ]
    }
   ],
   "source": [
    "#shapely has a very cool method that can get the distance from one geometry to another\n",
    "#no matter if they are points, linestrings, or polygons\n",
    "# geom.distance(geom2)\n",
    "#let us test it out\n",
    "\n",
    "print(my_test_point.distance(my_test_point))\n"
   ]
  },
  {
   "cell_type": "code",
   "execution_count": 8,
   "metadata": {},
   "outputs": [
    {
     "name": "stdout",
     "output_type": "stream",
     "text": [
      "87.21381771256203\n"
     ]
    }
   ],
   "source": [
    "#so far so good...the distance from a point to itself *should* be zero!\n",
    "#check distance to the first point in our point array\n",
    "print(my_test_point.distance(my_points[0]))"
   ]
  },
  {
   "cell_type": "code",
   "execution_count": 9,
   "metadata": {},
   "outputs": [
    {
     "name": "stdout",
     "output_type": "stream",
     "text": [
      "                         geometry  id  d2test\n",
      "0  POINT (495809.000 6295998.500)   0       0\n",
      "1  POINT (495819.000 6295999.500)   1       0\n",
      "2  POINT (495821.000 6296000.000)   2       0\n"
     ]
    }
   ],
   "source": [
    "#ok, testing done. let's get the distances from every point in our shapefile to this test point\n",
    "\n",
    "#first, make new column to put the values in:\n",
    "new_gdf['d2test'] = 0\n",
    "\n",
    "print(new_gdf.head(3))\n",
    "\n"
   ]
  },
  {
   "cell_type": "code",
   "execution_count": 10,
   "metadata": {},
   "outputs": [
    {
     "name": "stdout",
     "output_type": "stream",
     "text": [
      "                         geometry  id     d2test\n",
      "0  POINT (495809.000 6295998.500)   0  87.213818\n",
      "1  POINT (495819.000 6295999.500)   1  77.564489\n",
      "2  POINT (495821.000 6296000.000)   2  75.709973\n",
      "3  POINT (495822.000 6295992.250)   3  73.464702\n",
      "4  POINT (495815.000 6295994.000)   4  80.622577\n"
     ]
    }
   ],
   "source": [
    "#there are several ways you can fill this in. I will do a couple.\n",
    "\n",
    "#from dataframe, get geometries:\n",
    "geoms = new_gdf.geometry\n",
    "\n",
    "#make array to put values in\n",
    "dvalues = []\n",
    "\n",
    "#loop\n",
    "for g in geoms:\n",
    "    dvalues.append(my_test_point.distance(g))\n",
    "\n",
    "#and assign the dataframe column to be dvalues\n",
    "new_gdf['d2test'] = dvalues\n",
    "\n",
    "print(new_gdf.head())\n",
    "\n"
   ]
  },
  {
   "cell_type": "code",
   "execution_count": 12,
   "metadata": {},
   "outputs": [
    {
     "name": "stdout",
     "output_type": "stream",
     "text": [
      "                         geometry  id     d2test    d2test2\n",
      "0  POINT (495809.000 6295998.500)   0  87.213818  87.213818\n",
      "1  POINT (495819.000 6295999.500)   1  77.564489  77.564489\n",
      "2  POINT (495821.000 6296000.000)   2  75.709973  75.709973\n",
      "3  POINT (495822.000 6295992.250)   3  73.464702  73.464702\n",
      "4  POINT (495815.000 6295994.000)   4  80.622577  80.622577\n"
     ]
    }
   ],
   "source": [
    "#second method. populating a new column with data from another...using apply\n",
    "\n",
    "new_gdf['d2test2'] = new_gdf.apply(lambda x: my_test_point.distance(x.geometry), axis=1)\n",
    "\n",
    "print(new_gdf.head())"
   ]
  },
  {
   "cell_type": "code",
   "execution_count": null,
   "metadata": {},
   "outputs": [],
   "source": []
  }
 ],
 "metadata": {
  "kernelspec": {
   "display_name": "Python 3",
   "language": "python",
   "name": "python3"
  },
  "language_info": {
   "codemirror_mode": {
    "name": "ipython",
    "version": 3
   },
   "file_extension": ".py",
   "mimetype": "text/x-python",
   "name": "python",
   "nbconvert_exporter": "python",
   "pygments_lexer": "ipython3",
   "version": "3.6.9"
  }
 },
 "nbformat": 4,
 "nbformat_minor": 4
}
