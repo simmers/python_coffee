{
 "cells": [
  {
   "cell_type": "markdown",
   "metadata": {},
   "source": [
    "a basic script that uses 'laspy' to read lidar point cloud las file\n",
    "\n",
    "laspy: https://laspy.readthedocs.io/en/latest/\n"
   ]
  },
  {
   "cell_type": "code",
   "execution_count": 9,
   "metadata": {},
   "outputs": [],
   "source": [
    "\n",
    "\n",
    "#imports.\n",
    "# pip install laspy in your conda environment should go smoothly  *should*\n",
    "import laspy\n",
    "import numpy as np\n"
   ]
  },
  {
   "cell_type": "code",
   "execution_count": 11,
   "metadata": {},
   "outputs": [
    {
     "name": "stdout",
     "output_type": "stream",
     "text": [
      "<LasData(1.2, point fmt: <PointFormat(3, 0 bytes of extra dims)>, 9761 points, 2 vlrs)>\n",
      "<LasHeader(1.2, <PointFormat(3, 0 bytes of extra dims)>)>\n",
      "9761\n"
     ]
    }
   ],
   "source": [
    "\n",
    "#download the folder 'minilas' along with the las file 'mini.las'\n",
    "\n",
    "'''\n",
    "the bounds for the mini-las file are:\n",
    "\n",
    "minx, maxx = 515830., 515830. + 25\n",
    "miny, maxy = 6168011., 6168011. + 25\n",
    "\n",
    "'''\n",
    "\n",
    "las_file = './minilas/mini.las'\n",
    "\n",
    "f_las = laspy.read(las_file)\n",
    "\n",
    "#print some general stuff\n",
    "print(f_las)\n",
    "print(f_las.header)\n",
    "print(f_las.header.point_count)\n"
   ]
  },
  {
   "cell_type": "code",
   "execution_count": 13,
   "metadata": {},
   "outputs": [
    {
     "name": "stdout",
     "output_type": "stream",
     "text": [
      "9761 9761 9761\n"
     ]
    }
   ],
   "source": [
    "#grab data\n",
    "x = f_las.x\n",
    "y = f_las.y\n",
    "z = f_las.z\n",
    "\n",
    "print(len(x), len(y), len(z))  #should all be the same."
   ]
  },
  {
   "cell_type": "code",
   "execution_count": 14,
   "metadata": {},
   "outputs": [
    {
     "name": "stdout",
     "output_type": "stream",
     "text": [
      "[177 107 102  26]\n"
     ]
    }
   ],
   "source": [
    "print(f_las.intensity[0:4])"
   ]
  },
  {
   "cell_type": "markdown",
   "metadata": {},
   "source": [
    "That's it for now.  Laspy is a handy tool for some purposes like reading the raw x,y,z values and/or subsetting small las files.  I don't tend to use it for much in processing.  Version 1 of laspy had a feature that allowed using lax files for spatial indexing but version 2 doesn't.  \n",
    "A couple of use cases that I have used laspy for are...\n",
    "\n",
    "--quickly grabbing the intensity values to calculate the distibution\n",
    "\n",
    "--grabbing points, then building a spatial index to allow grabbing points within range of a given point\n",
    "\n"
   ]
  },
  {
   "cell_type": "code",
   "execution_count": null,
   "metadata": {},
   "outputs": [],
   "source": []
  }
 ],
 "metadata": {
  "kernelspec": {
   "display_name": "Python 3",
   "language": "python",
   "name": "python3"
  },
  "language_info": {
   "codemirror_mode": {
    "name": "ipython",
    "version": 3
   },
   "file_extension": ".py",
   "mimetype": "text/x-python",
   "name": "python",
   "nbconvert_exporter": "python",
   "pygments_lexer": "ipython3",
   "version": "3.6.9"
  }
 },
 "nbformat": 4,
 "nbformat_minor": 4
}
