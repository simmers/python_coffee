{
 "cells": [
  {
   "cell_type": "markdown",
   "metadata": {},
   "source": [
    "Introducing the library \"Shapely\""
   ]
  },
  {
   "cell_type": "code",
   "execution_count": 11,
   "metadata": {},
   "outputs": [],
   "source": [
    "#likely you already have Shapely if you installed geopandas.\n",
    "\n",
    "#geopandas dataframes have their geometries as shapely geometry objects...that's why the 2 libraries behave well together.\n",
    "\n",
    "#test if you have it:\n",
    "\n",
    "import shapely"
   ]
  },
  {
   "cell_type": "code",
   "execution_count": 12,
   "metadata": {},
   "outputs": [],
   "source": [
    "import geopandas\n",
    "from shapely.geometry import Point\n"
   ]
  },
  {
   "cell_type": "code",
   "execution_count": 20,
   "metadata": {},
   "outputs": [],
   "source": [
    "\n",
    "#we are going to make a shapefile using geopandas, with points made by shapely\n",
    "\n",
    "my_crs = 26912  #our spatial ref\n",
    "\n",
    "#empty point array\n",
    "my_points = []\n",
    "\n",
    "#make point\n",
    "new_point = Point([495809.00, 6295998.50])\n",
    "\n",
    "#add point to array\n",
    "my_points.append(new_point)\n",
    "\n",
    "\n",
    "#make and add in one line\n",
    "my_points.append(Point([495819.00, 6295999.50]))\n",
    "\n",
    "#and a few more...sorta random\n",
    "my_points.append(Point([495821.00, 6296000.0]))\n",
    "my_points.append(Point([495822.00, 6295992.25]))\n",
    "my_points.append(Point([495815.00, 6295994.0]))\n",
    "my_points.append(Point([495819.00, 6295990.1]))\n"
   ]
  },
  {
   "cell_type": "code",
   "execution_count": 25,
   "metadata": {},
   "outputs": [
    {
     "name": "stdout",
     "output_type": "stream",
     "text": [
      "                         geometry\n",
      "0  POINT (495809.000 6295998.500)\n",
      "1  POINT (495819.000 6295999.500)\n",
      "2  POINT (495821.000 6296000.000)\n",
      "3  POINT (495822.000 6295992.250)\n",
      "4  POINT (495815.000 6295994.000)\n",
      "                         geometry  id\n",
      "0  POINT (495809.000 6295998.500)   0\n",
      "1  POINT (495819.000 6295999.500)   1\n",
      "2  POINT (495821.000 6296000.000)   2\n",
      "3  POINT (495822.000 6295992.250)   3\n"
     ]
    }
   ],
   "source": [
    "#make a geopandas data frame\n",
    "\n",
    "new_gdf = geopandas.GeoDataFrame( None, geometry=my_points, crs=my_crs )\n",
    "#the \"None\" varible is because we do not have any other columns.\n",
    "\n",
    "#inspect it\n",
    "print(new_gdf.head())\n",
    "\n",
    "#we will also make an \"id\" field for the data frame...have a number from 0 to length -1 of our points.\n",
    "new_gdf[\"id\"] = range(len(my_points))\n",
    "\n",
    "#inspect it again\n",
    "print(new_gdf.head(4)) #the default is 5 for rows, but it can be changed...in this case, 4\n",
    "\n"
   ]
  },
  {
   "cell_type": "code",
   "execution_count": 26,
   "metadata": {},
   "outputs": [],
   "source": [
    "#happy? save it.\n",
    "new_gdf.to_file('my_points.shp')\n"
   ]
  },
  {
   "cell_type": "code",
   "execution_count": null,
   "metadata": {},
   "outputs": [],
   "source": []
  }
 ],
 "metadata": {
  "kernelspec": {
   "display_name": "Python 3",
   "language": "python",
   "name": "python3"
  },
  "language_info": {
   "codemirror_mode": {
    "name": "ipython",
    "version": 3
   },
   "file_extension": ".py",
   "mimetype": "text/x-python",
   "name": "python",
   "nbconvert_exporter": "python",
   "pygments_lexer": "ipython3",
   "version": "3.6.9"
  }
 },
 "nbformat": 4,
 "nbformat_minor": 4
}
