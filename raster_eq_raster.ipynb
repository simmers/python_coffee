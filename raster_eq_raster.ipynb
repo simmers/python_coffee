{
 "cells": [
  {
   "cell_type": "markdown",
   "metadata": {},
   "source": [
    "This script shows how to check if 2 rasters are identical.\n",
    "\n",
    "\n",
    "in your python conda environment. (python3.8)\n",
    "\n",
    "conda install -c conda-forge gdal\n",
    "\n"
   ]
  },
  {
   "cell_type": "code",
   "execution_count": 35,
   "metadata": {},
   "outputs": [],
   "source": [
    "from osgeo import gdal\n",
    "import numpy as np  #yup, numpy AGAIN!"
   ]
  },
  {
   "cell_type": "code",
   "execution_count": 36,
   "metadata": {},
   "outputs": [],
   "source": [
    "\n",
    "#we have a few rasters:\n",
    "\n",
    "# 1_almost.tif  1_other.tif  1.tif  2.tif  (in 'rasters' subfolder)\n",
    "\n",
    "# we want to check which rasters are equal to 1.tif"
   ]
  },
  {
   "cell_type": "code",
   "execution_count": 37,
   "metadata": {},
   "outputs": [],
   "source": [
    "#make a function so we can re-use code\n",
    "#will return True if they are equal, False if they are not.\n",
    "\n",
    "def check_raster_equal(raster1_name, raster2_name, debug=False):\n",
    "\n",
    "    #open both\n",
    "    \n",
    "    ds1 = gdal.Open(raster1_name)\n",
    "    if ds1 is None:\n",
    "        print('bad raster1_name, looks like file does not exist?')\n",
    "        return False\n",
    "    \n",
    "    ds2 = gdal.Open(raster2_name)\n",
    "    if ds2 is None:\n",
    "        print('bad raster2_name, looks like file does not exist?')\n",
    "        return False\n",
    "    \n",
    "    #check they have the same number of bands:\n",
    "    if ds1.RasterCount != ds2.RasterCount:\n",
    "        if debug:\n",
    "            print('not the same number of bands')\n",
    "        return False\n",
    "    \n",
    "    #check they have the same geotransform\n",
    "    if ds1.GetGeoTransform() != ds2.GetGeoTransform():\n",
    "        if debug:\n",
    "            print('not the same geotransform')\n",
    "        return False\n",
    "\n",
    "    #check they have the same projection\n",
    "    if ds1.GetProjection() != ds2.GetProjection():\n",
    "        if debug:\n",
    "            print('not the same projection')\n",
    "        return False\n",
    "    \n",
    "    if ds1.RasterXSize != ds2.RasterXSize or ds1.RasterYSize != ds2.RasterYSize:\n",
    "        if debug:\n",
    "            print('data not the same shape')\n",
    "        return False\n",
    "    \n",
    "    #save this one for last because part of it involves loading the data\n",
    "    #now check the data. raster bands are 1-based.\n",
    "    #for each band, check the data\n",
    "    for i in range(1, ds1.RasterCount + 1):\n",
    "        \n",
    "        #check band nodata values\n",
    "        if ds1.GetRasterBand(1).GetNoDataValue() != ds2.GetRasterBand(1).GetNoDataValue():\n",
    "            if debug:\n",
    "                print(f'band {i} nodata values not the same')\n",
    "            return False\n",
    "        \n",
    "        data1 = ds1.GetRasterBand(1).ReadAsArray() #returns numpy array\n",
    "        data2 = ds2.GetRasterBand(1).ReadAsArray() #returns numpy array\n",
    "\n",
    "        if not np.allclose(data1, data2):\n",
    "            if debug:\n",
    "                print('data differs')\n",
    "            return False\n",
    "            \n",
    "    \n",
    "    return True\n",
    "\n"
   ]
  },
  {
   "cell_type": "code",
   "execution_count": 38,
   "metadata": {},
   "outputs": [
    {
     "name": "stdout",
     "output_type": "stream",
     "text": [
      "not the same geotransform\n",
      "False\n",
      "\n",
      "True\n",
      "\n",
      "data differs\n",
      "False\n",
      "\n"
     ]
    }
   ],
   "source": [
    "\n",
    "print(check_raster_equal('./rasters/1.tif', './rasters/2.tif', debug=True))\n",
    "print()\n",
    "\n",
    "print(check_raster_equal('./rasters/1.tif', './rasters/1_other.tif', debug=True))\n",
    "print()\n",
    "\n",
    "\n",
    "print(check_raster_equal('./rasters/1.tif', './rasters/1_almost.tif', debug=True))\n",
    "print()\n",
    "\n"
   ]
  },
  {
   "cell_type": "code",
   "execution_count": 39,
   "metadata": {},
   "outputs": [
    {
     "name": "stdout",
     "output_type": "stream",
     "text": [
      "False\n",
      "True\n",
      "False\n"
     ]
    }
   ],
   "source": [
    "#and without any debug messages\n",
    "print(check_raster_equal('./rasters/1.tif', './rasters/2.tif'))\n",
    "print(check_raster_equal('./rasters/1.tif', './rasters/1_other.tif'))\n",
    "print(check_raster_equal('./rasters/1.tif', './rasters/1_almost.tif'))\n"
   ]
  },
  {
   "cell_type": "code",
   "execution_count": null,
   "metadata": {},
   "outputs": [],
   "source": []
  }
 ],
 "metadata": {
  "kernelspec": {
   "display_name": "Python 3",
   "language": "python",
   "name": "python3"
  },
  "language_info": {
   "codemirror_mode": {
    "name": "ipython",
    "version": 3
   },
   "file_extension": ".py",
   "mimetype": "text/x-python",
   "name": "python",
   "nbconvert_exporter": "python",
   "pygments_lexer": "ipython3",
   "version": "3.6.9"
  }
 },
 "nbformat": 4,
 "nbformat_minor": 4
}
