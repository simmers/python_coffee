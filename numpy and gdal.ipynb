{
 "cells": [
  {
   "cell_type": "code",
   "execution_count": 1,
   "metadata": {},
   "outputs": [],
   "source": [
    "'''\n",
    "once you conda activate your virtual env, \n",
    "\n",
    "conda install -c conda-forge gdal\n",
    "\n",
    "the \"-c conda-forge\" is a common inclusion when installing packages. \n",
    "it means it's maintained at conda-forge instead of the conda mothership.\n",
    "\n",
    "if you already installed gdal, or pandas etc, numpy should have been included\n",
    "\n",
    "'''\n",
    "\n",
    "from osgeo import gdal\n",
    "\n",
    "import numpy as np  #\"as np\" means we can refer to the package using \"np\" in our script--a common abbreviation.\n",
    "\n"
   ]
  },
  {
   "cell_type": "code",
   "execution_count": 2,
   "metadata": {},
   "outputs": [
    {
     "name": "stdout",
     "output_type": "stream",
     "text": [
      "(25,)\n"
     ]
    }
   ],
   "source": [
    "#numpy primer.\n",
    "\n",
    "#make 5x5 numpy array.\n",
    "\n",
    "#first make a one-dimensional array\n",
    "a = np.array(range(25))\n",
    "print(a.shape)\n"
   ]
  },
  {
   "cell_type": "code",
   "execution_count": 5,
   "metadata": {},
   "outputs": [
    {
     "name": "stdout",
     "output_type": "stream",
     "text": [
      "(5, 5)\n"
     ]
    }
   ],
   "source": [
    "#now reshape it\n",
    "a.shape = (5,5)\n",
    "print(a.shape)"
   ]
  },
  {
   "cell_type": "code",
   "execution_count": 6,
   "metadata": {},
   "outputs": [
    {
     "name": "stdout",
     "output_type": "stream",
     "text": [
      "[[ 0  1  2  3  4]\n",
      " [ 5  6  7  8  9]\n",
      " [10 11 12 13 14]\n",
      " [15 16 17 18 19]\n",
      " [20 21 22 23 24]]\n"
     ]
    }
   ],
   "source": [
    "print(a)"
   ]
  },
  {
   "cell_type": "code",
   "execution_count": 7,
   "metadata": {},
   "outputs": [
    {
     "name": "stdout",
     "output_type": "stream",
     "text": [
      "[[False False False False False]\n",
      " [False False False False False]\n",
      " [False False False False  True]\n",
      " [ True  True  True  True  True]\n",
      " [ True  True  True  True  True]]\n"
     ]
    }
   ],
   "source": [
    "# a \"2-d\" numpy array...just like a raster.\n",
    "\n",
    "#'masking' is a super-powerful numpy feature\n",
    "\n",
    "mask = a > 13\n",
    "\n",
    "print(mask)\n"
   ]
  },
  {
   "cell_type": "code",
   "execution_count": 8,
   "metadata": {},
   "outputs": [
    {
     "name": "stdout",
     "output_type": "stream",
     "text": [
      "11\n"
     ]
    }
   ],
   "source": [
    "#cool, huh? with one line of code, you can create a numpy array with the same shape with logical values based on \n",
    "# your critera\n",
    "\n",
    "#note: logical np arrays sum as 0/1\n",
    "print(np.sum(mask))"
   ]
  },
  {
   "cell_type": "code",
   "execution_count": null,
   "metadata": {},
   "outputs": [],
   "source": [
    "#11 simply means there are 11 array values (or cells in your raster) that are > 13 in value."
   ]
  },
  {
   "cell_type": "code",
   "execution_count": 9,
   "metadata": {},
   "outputs": [],
   "source": [
    "#let's load a dem raster...yours will be a different path\n",
    "\n",
    "ds = gdal.Open('/media/john/towt/wetland_atlas/OSM/tiles/417/417__DEM_ALOS.tif', gdal.GA_ReadOnly) #specify read only for play...don't wanna risk changing anything\n",
    "\n",
    "#note \"ds\" is a short cut for \"datasource\""
   ]
  },
  {
   "cell_type": "code",
   "execution_count": 10,
   "metadata": {},
   "outputs": [
    {
     "name": "stdout",
     "output_type": "stream",
     "text": [
      "(606, 954)\n"
     ]
    }
   ],
   "source": [
    "#now get a band and load the first band of values. bands start at 1\n",
    "band = ds.GetRasterBand(1)\n",
    "raster_values = band.ReadAsArray()  #loads data into a numpy array!\n",
    "\n",
    "print(raster_values.shape)"
   ]
  },
  {
   "cell_type": "code",
   "execution_count": 11,
   "metadata": {},
   "outputs": [
    {
     "name": "stdout",
     "output_type": "stream",
     "text": [
      "327.5955\n"
     ]
    }
   ],
   "source": [
    "print(np.mean(raster_values)) #the mean....sort of..."
   ]
  },
  {
   "cell_type": "code",
   "execution_count": 13,
   "metadata": {},
   "outputs": [
    {
     "name": "stdout",
     "output_type": "stream",
     "text": [
      "-9999.0\n"
     ]
    }
   ],
   "source": [
    "#we didn't account for nodatas yet...\n",
    "print(band.GetNoDataValue())"
   ]
  },
  {
   "cell_type": "code",
   "execution_count": 14,
   "metadata": {},
   "outputs": [
    {
     "name": "stdout",
     "output_type": "stream",
     "text": [
      "578124\n"
     ]
    }
   ],
   "source": [
    "#ah, so -9999s were included in the mean\n",
    "\n",
    "non_nodata_mask = raster_values != -9999\n",
    "print(np.sum(non_nodata_mask))"
   ]
  },
  {
   "cell_type": "code",
   "execution_count": 16,
   "metadata": {},
   "outputs": [
    {
     "name": "stdout",
     "output_type": "stream",
     "text": [
      "(578124,)\n"
     ]
    }
   ],
   "source": [
    "#I'd like to 'grab' all of those masked values...easy!\n",
    "\n",
    "non_nodata_raster_values = raster_values[non_nodata_mask]\n",
    "\n",
    "print(non_nodata_raster_values.shape) #it grabs them as just a 1-d array"
   ]
  },
  {
   "cell_type": "code",
   "execution_count": 17,
   "metadata": {},
   "outputs": [
    {
     "name": "stdout",
     "output_type": "stream",
     "text": [
      "327.5955\n"
     ]
    }
   ],
   "source": [
    "print(np.mean(non_nodata_raster_values))\n"
   ]
  },
  {
   "cell_type": "code",
   "execution_count": 18,
   "metadata": {},
   "outputs": [
    {
     "name": "stdout",
     "output_type": "stream",
     "text": [
      "0\n"
     ]
    }
   ],
   "source": [
    "#oh...that's the same mean!  maybe that tells us there are no nodata??\n",
    "#let's check\n",
    "print(np.sum(raster_values == -9999))"
   ]
  },
  {
   "cell_type": "code",
   "execution_count": null,
   "metadata": {},
   "outputs": [],
   "source": [
    "#ok. I suppose we could have checked first, but then I wouldn't have been able to show you masking in action"
   ]
  },
  {
   "cell_type": "code",
   "execution_count": 20,
   "metadata": {},
   "outputs": [
    {
     "name": "stdout",
     "output_type": "stream",
     "text": [
      "95\n"
     ]
    }
   ],
   "source": [
    "#another make-believe operation...\n",
    "#\"what is the mean elevation for the terrain that is above 350m?\"\n",
    "\n",
    "#quickly check if there are any pixels > 350\n",
    "print(np.sum(raster_values > 350))"
   ]
  },
  {
   "cell_type": "code",
   "execution_count": 21,
   "metadata": {},
   "outputs": [
    {
     "name": "stdout",
     "output_type": "stream",
     "text": [
      "350.78162\n"
     ]
    }
   ],
   "source": [
    "#make mask:\n",
    "gt_350_mask = raster_values > 350\n",
    "\n",
    "print(np.mean(raster_values[gt_350_mask]))\n"
   ]
  },
  {
   "cell_type": "code",
   "execution_count": null,
   "metadata": {},
   "outputs": [],
   "source": []
  }
 ],
 "metadata": {
  "kernelspec": {
   "display_name": "Python 3",
   "language": "python",
   "name": "python3"
  },
  "language_info": {
   "codemirror_mode": {
    "name": "ipython",
    "version": 3
   },
   "file_extension": ".py",
   "mimetype": "text/x-python",
   "name": "python",
   "nbconvert_exporter": "python",
   "pygments_lexer": "ipython3",
   "version": "3.6.9"
  }
 },
 "nbformat": 4,
 "nbformat_minor": 4
}
