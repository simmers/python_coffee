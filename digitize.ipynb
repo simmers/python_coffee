{
 "cells": [
  {
   "cell_type": "markdown",
   "metadata": {},
   "source": [
    "Introducing numpy 'digitize' function\n",
    "\n",
    "https://numpy.org/doc/stable/reference/generated/numpy.digitize.html\n",
    "\n",
    "and 'bincount'\n",
    "\n",
    "https://numpy.org/doc/stable/reference/generated/numpy.bincount.html\n",
    "\n",
    "and some matplotlib plotting\n",
    "\n",
    "histogram:\n",
    "\n",
    "https://matplotlib.org/stable/gallery/statistics/hist.html\n",
    "\n",
    "\n",
    "bar charts:\n",
    "\n",
    "https://matplotlib.org/stable/gallery/lines_bars_and_markers/bar_colors.html#sphx-glr-gallery-lines-bars-and-markers-bar-colors-py"
   ]
  },
  {
   "cell_type": "code",
   "execution_count": 18,
   "metadata": {},
   "outputs": [],
   "source": [
    "#I will do some plotting down below...so I will include 'matplotlib'\n",
    "%matplotlib inline\n",
    "import matplotlib\n",
    "import matplotlib.pyplot as plt\n",
    "\n",
    "#by now, you may have it installed because other packages may have had it as a dependency\n",
    "# https://matplotlib.org/stable/users/installing/index.html\n",
    "# conda install -c conda-forge matplotlib   (when in your conda env)\n",
    "# or\n",
    "# pip install matplotlib   (when in your conda env)\n",
    "\n",
    "#import good old numpy!\n",
    "import numpy as np"
   ]
  },
  {
   "cell_type": "code",
   "execution_count": 19,
   "metadata": {},
   "outputs": [
    {
     "name": "stdout",
     "output_type": "stream",
     "text": [
      "[5.06369518 6.72948127 4.54638769 2.71417548 7.57682458 3.44902112\n",
      " 7.99024003 6.45089946 7.72797119 7.20374193 5.41297069 6.51528701\n",
      " 1.83714368 3.81678291 9.16587543 7.7141827  9.16148387 2.96180717\n",
      " 8.64795319 1.29615078 4.20752359 2.42353254 0.48619423 2.97548312\n",
      " 7.92533552 5.9645947  8.40195047 7.85465559 5.58151107 9.54722453]\n"
     ]
    }
   ],
   "source": [
    "#to start, let us make a bunch of numbers(30) between 0 and 10...random\n",
    "#note 'rand' generates numbers 0-1...so multiply by 10 will give floating points from 0 to 10\n",
    "\n",
    "nums = 10. * np.random.rand(30)\n",
    "\n",
    "print(nums)"
   ]
  },
  {
   "cell_type": "code",
   "execution_count": 20,
   "metadata": {},
   "outputs": [],
   "source": [
    "#now, pretend you wish to 'bin' these values into custom ranges...\n",
    "#maybe to assign classes or for visuals when plotting, etc.\n",
    "\n",
    "'''\n",
    "my custom ranges will be:\n",
    "- less than 2\n",
    "- 2-4\n",
    "- 4-8\n",
    "- 8+\n",
    "'''\n",
    "\n",
    "#turning that into a 'digitize' array:\n",
    "my_ranges_for_digitizing = np.array([2, 4, 8])\n",
    "\n",
    "# note that I have 4 ranges, but only 3 elements in my array.\n",
    "# this is because of the less than the first value and greater than the last value essentially\n",
    "# create an additional bin\n",
    "\n"
   ]
  },
  {
   "cell_type": "code",
   "execution_count": 21,
   "metadata": {},
   "outputs": [
    {
     "name": "stdout",
     "output_type": "stream",
     "text": [
      "[2 2 2 1 2 1 2 2 2 2 2 2 0 1 3 2 3 1 3 0 2 1 0 1 2 2 3 2 2 3]\n"
     ]
    }
   ],
   "source": [
    "my_binned_numbers = np.digitize(nums, my_ranges_for_digitizing)\n",
    "\n",
    "print(my_binned_numbers)\n",
    "\n",
    "#each element in 'my_binned_numbers' indicates which bin the corresponding element in 'nums' belongs to."
   ]
  },
  {
   "cell_type": "code",
   "execution_count": 22,
   "metadata": {},
   "outputs": [
    {
     "name": "stdout",
     "output_type": "stream",
     "text": [
      "[1 2]\n",
      "[0 1]\n"
     ]
    }
   ],
   "source": [
    "#optional\n",
    "\n",
    "#in the documentation, one can adjust the setting for open/closed intervals being right or left\n",
    "#by default it is right=False so if a number sits on a boundary it will 'belong' to the higher valued bin\n",
    "print(np.digitize([2, 4], my_ranges_for_digitizing))\n",
    "\n",
    "print(np.digitize([2, 4], my_ranges_for_digitizing, right=True))\n"
   ]
  },
  {
   "cell_type": "code",
   "execution_count": 23,
   "metadata": {},
   "outputs": [
    {
     "data": {
      "image/png": "[encoded data removed]",
      "text/plain": [
       "<Figure size 432x288 with 1 Axes>"
      ]
     },
     "metadata": {
      "needs_background": "light"
     },
     "output_type": "display_data"
    }
   ],
   "source": [
    "'''\n",
    "back to our binned numbers.  we have an array of integers depicting which 'bin' they belong to:\n",
    "\n",
    "0: less than 2\n",
    "1: 2-4\n",
    "2: 4-8\n",
    "3: 8+\n",
    "\n",
    "plot them!\n",
    "\n",
    "'''\n",
    "\n",
    "fig, ax = plt.subplots()\n",
    "\n",
    "ax.hist(my_binned_numbers)\n",
    "\n",
    "ax.set_ylabel('frequency')\n",
    "ax.set_xlabel('bin#')\n",
    "ax.set_title('custom histogram!')\n",
    "\n",
    "plt.show()\n",
    "\n"
   ]
  },
  {
   "cell_type": "code",
   "execution_count": 33,
   "metadata": {},
   "outputs": [
    {
     "name": "stdout",
     "output_type": "stream",
     "text": [
      "[ 3  6 16  5]\n"
     ]
    }
   ],
   "source": [
    "'''\n",
    "I agree, the x-axis has not so useful labels... bin# 2-ish doesn't mean a whole lot.\n",
    "let's clean it up.\n",
    "\n",
    "first thing is using the built-in 'hist' histogram function is a bit of a beast to put custom labels on the \n",
    "plot.\n",
    "\n",
    "let's aim for a barchart which means we now need to know 'how many of each bin'\n",
    "\n",
    "for this, use numpy.bincount which works on arrays of integers...and returns the count of each interger value!\n",
    "\n",
    "\n",
    "since we're dealing with random numbers we will see different things\n",
    "\n",
    "I see:\n",
    "[ 3  6 16  5]\n",
    "which means I have 3 elements in bin 0, 6 in bin 1, and so on\n",
    "\n",
    "'''\n",
    "bin_counts = np.bincount(my_binned_numbers)\n",
    "print(bin_counts)\n",
    "\n"
   ]
  },
  {
   "cell_type": "code",
   "execution_count": 35,
   "metadata": {},
   "outputs": [
    {
     "data": {
      "image/png": "[encoded data removed]",
      "text/plain": [
       "<Figure size 432x288 with 1 Axes>"
      ]
     },
     "metadata": {
      "needs_background": "light"
     },
     "output_type": "display_data"
    }
   ],
   "source": [
    "fig, ax = plt.subplots()\n",
    "\n",
    "ax.bar(['bin 0', 'bin 1', 'bin 2', 'bin 3'], bin_counts)\n",
    "\n",
    "ax.set_title('nicer custom histogram!')\n",
    "\n",
    "ax.set_ylabel('frequency')\n",
    "ax.set_xlabel('bin#')\n",
    "\n",
    "plt.show()\n"
   ]
  },
  {
   "cell_type": "code",
   "execution_count": null,
   "metadata": {},
   "outputs": [],
   "source": []
  }
 ],
 "metadata": {
  "kernelspec": {
   "display_name": "Python 3",
   "language": "python",
   "name": "python3"
  },
  "language_info": {
   "codemirror_mode": {
    "name": "ipython",
    "version": 3
   },
   "file_extension": ".py",
   "mimetype": "text/x-python",
   "name": "python",
   "nbconvert_exporter": "python",
   "pygments_lexer": "ipython3",
   "version": "3.6.9"
  }
 },
 "nbformat": 4,
 "nbformat_minor": 4
}
